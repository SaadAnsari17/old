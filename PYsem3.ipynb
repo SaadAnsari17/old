{
 "cells": [
  {
   "cell_type": "markdown",
   "metadata": {},
   "source": [
    "####Database Applications\n",
    "1.\tWrite a database program to perform the following\n",
    "•\t Show all databases in the DBMS.\n",
    "\n",
    "•\t Create a Database named \"Company\".\n",
    "\n",
    "•\tCreate a table Employee in Company Database(empid int,empname varchar(50), designation varchar(50),basic int)\n",
    "\n",
    "•\tInsert 10 records into employee table\n",
    "\t\n",
    "•\tDisplay all records of employee table\n",
    "•\tDisplay the employees details with designation as entered by the user at runtime\n",
    "•\tDisplay the employee details with basic<20000\n",
    "•\tUpdate the basic of Manager by 30%\n",
    " "
   ]
  },
  {
   "cell_type": "code",
   "execution_count": 1,
   "metadata": {},
   "outputs": [
    {
     "name": "stdout",
     "output_type": "stream",
     "text": [
      "Collecting mysql-connector-python\n",
      "  Downloading mysql_connector_python-8.0.28-cp310-cp310-win_amd64.whl (7.2 MB)\n",
      "     ---------------------------------------- 7.2/7.2 MB 3.9 MB/s eta 0:00:00\n",
      "Collecting protobuf>=3.0.0\n",
      "  Downloading protobuf-3.20.0-cp310-cp310-win_amd64.whl (903 kB)\n",
      "     -------------------------------------- 903.8/903.8 KB 6.4 MB/s eta 0:00:00\n",
      "Installing collected packages: protobuf, mysql-connector-python\n",
      "Successfully installed mysql-connector-python-8.0.28 protobuf-3.20.0\n",
      "Note: you may need to restart the kernel to use updated packages.\n"
     ]
    }
   ],
   "source": [
    "pip install mysql-connector-python"
   ]
  },
  {
   "cell_type": "code",
   "execution_count": 72,
   "metadata": {},
   "outputs": [],
   "source": [
    "import mysql.connector\n",
    "con=mysql.connector.connect(host=\"localhost\",\n",
    "database=\"mysql\",\n",
    "user=\"root\",password=\"\")"
   ]
  },
  {
   "cell_type": "code",
   "execution_count": 74,
   "metadata": {},
   "outputs": [
    {
     "name": "stdout",
     "output_type": "stream",
     "text": [
      "<mysql.connector.connection_cext.CMySQLConnection object at 0x0000023AEE6BDC30>\n"
     ]
    }
   ],
   "source": [
    "con=mysql.connector.connect(host='localhost',database=\"COMPANY\",user='root',password='')\n",
    "print(con)"
   ]
  },
  {
   "cell_type": "code",
   "execution_count": 75,
   "metadata": {},
   "outputs": [],
   "source": [
    "mycur = con.cursor()"
   ]
  },
  {
   "cell_type": "code",
   "execution_count": null,
   "metadata": {},
   "outputs": [],
   "source": [
    "mycur.execute(\"CREATE DATABASE COMPANY\")"
   ]
  },
  {
   "cell_type": "code",
   "execution_count": 56,
   "metadata": {},
   "outputs": [
    {
     "name": "stdout",
     "output_type": "stream",
     "text": [
      "('company',)\n",
      "('dbemp',)\n",
      "('information_schema',)\n",
      "('mysql',)\n",
      "('performance_schema',)\n",
      "('phpmyadmin',)\n",
      "('test',)\n"
     ]
    }
   ],
   "source": [
    "mycur.execute(\"SHOW DATABASES\")\n",
    "for i in mycur:\n",
    "    print(i)"
   ]
  },
  {
   "cell_type": "code",
   "execution_count": 46,
   "metadata": {},
   "outputs": [],
   "source": [
    "mycur.execute('DROP TABLE EMPLOYEE')"
   ]
  },
  {
   "cell_type": "code",
   "execution_count": 47,
   "metadata": {},
   "outputs": [],
   "source": [
    "mycur.execute(\"CREATE TABLE EMPLOYEE(EMPID INT,EMPNAME VARCHAR(50), DESIGNATION VARCHAR(50),BASIC INT)\")"
   ]
  },
  {
   "cell_type": "code",
   "execution_count": 12,
   "metadata": {},
   "outputs": [],
   "source": [
    "rec = \"INSERT INTO EMPLOYEE(EMPID,EMPNAME,DESIGNATION,BASIC)VALUES(%s,%s,%s,%s)\" \n",
    "values = [(111,\"Adrian\",\"Manager\",50000),(112,\"Bob\",\"CSCP\",30000),\\    \n",
    "(113,\"Alex\",\"CIM\",60000),(114,\"Ana\",\"CIP\",29000),(115,\"Julian\",\"CCC\",55000),\\\n",
    "(116,\"Phil\",\"CFA\",35000),(117,\"Jones\",\"CPA\",40000),(118,\"Ishaan\",\"CHRL\",45000),\\\n",
    "(119,\"Aditi\",\"PMP\",60000),(120,\"Naina\",\"RP\",65000)]\n",
    "mycur.executemany(rec,values)\n",
    "con.commit()\n"
   ]
  },
  {
   "cell_type": "code",
   "execution_count": 57,
   "metadata": {},
   "outputs": [
    {
     "name": "stdout",
     "output_type": "stream",
     "text": [
      "(111, 'Adrian', 'Manager', 55000)\n",
      "(112, 'Bob', 'CSCP', 30000)\n",
      "(113, 'Alex', 'CIM', 60000)\n",
      "(114, 'Ana', 'CIP', 29000)\n",
      "(115, 'Julian', 'CCC', 55000)\n",
      "(116, 'Phil', 'CFA', 35000)\n",
      "(117, 'Jones', 'CPA', 40000)\n",
      "(118, 'Ishaan', 'CHRL', 45000)\n",
      "(119, 'Aditi', 'PMP', 60000)\n",
      "(120, 'Naina', 'RP', 65000)\n"
     ]
    }
   ],
   "source": [
    "mycur.execute(\"SELECT * FROM EMPLOYEE\")\n",
    "result = mycur.fetchall()\n",
    "for x in result:\n",
    "    print(x)"
   ]
  },
  {
   "cell_type": "code",
   "execution_count": 5,
   "metadata": {},
   "outputs": [
    {
     "name": "stdout",
     "output_type": "stream",
     "text": [
      "(111, 'Adrian', 'Manager', 50000)\n"
     ]
    }
   ],
   "source": [
    "query=\"SELECT * FROM EMPLOYEE WHERE DESIGNATION=%s\"\n",
    "dsgninput=str(input(\"Enter Designation\"))\n",
    "dsgn=(dsgninput,)\n",
    "mycur.execute(query,dsgn)\n",
    "x=mycur.fetchall()\n",
    "for i in x:\n",
    "    print(i)"
   ]
  },
  {
   "cell_type": "code",
   "execution_count": 81,
   "metadata": {},
   "outputs": [
    {
     "name": "stdout",
     "output_type": "stream",
     "text": [
      "(113, 'Alex', 'CIM', 60000)\n"
     ]
    }
   ],
   "source": [
    "query=\"SELECT * FROM EMPLOYEE WHERE EMPNAME=%s\"\n",
    "empname=str(input(\"Enter Name\"))\n",
    "emp=(empname,)\n",
    "mycur.execute(query,emp)\n",
    "x=mycur.fetchall()\n",
    "for i in x:\n",
    "    print(i)"
   ]
  },
  {
   "cell_type": "code",
   "execution_count": 6,
   "metadata": {},
   "outputs": [
    {
     "name": "stdout",
     "output_type": "stream",
     "text": [
      "(112, 'Bob', 'CSCP', 30000)\n",
      "(114, 'Ana', 'CIP', 29000)\n"
     ]
    }
   ],
   "source": [
    "basic=\"SELECT * FROM EMPLOYEE WHERE BASIC<35000\"\n",
    "mycur.execute(basic)\n",
    "x=mycur.fetchall()\n",
    "for i in x:\n",
    "    print(i)"
   ]
  },
  {
   "cell_type": "code",
   "execution_count": 8,
   "metadata": {},
   "outputs": [],
   "source": [
    "Update=\"UPDATE EMPLOYEE SET BASIC = BASIC*.1+BASIC WHERE DESIGNATION='MANAGER'\"\n",
    "mycur.execute(Update)\n",
    "con.commit()"
   ]
  },
  {
   "cell_type": "code",
   "execution_count": 6,
   "metadata": {},
   "outputs": [],
   "source": [
    "mycur.execute(\"UPDATE EMPLOYEE SET BASIC = 50000 WHERE DESIGNATION='MANAGER'\")\n"
   ]
  },
  {
   "cell_type": "code",
   "execution_count": null,
   "metadata": {},
   "outputs": [],
   "source": [
    "mycur.close()\n",
    "con.close()"
   ]
  },
  {
   "cell_type": "code",
   "execution_count": 7,
   "metadata": {},
   "outputs": [],
   "source": [
    "con.commit()"
   ]
  },
  {
   "cell_type": "code",
   "execution_count": 58,
   "metadata": {},
   "outputs": [],
   "source": [
    "import mysql.connector\n",
    "mydb = mysql.connector.connect(host=\"localhost\",database=\"dbemp\",user=\"root\",password=\"\")"
   ]
  },
  {
   "cell_type": "code",
   "execution_count": 59,
   "metadata": {},
   "outputs": [],
   "source": [
    "mycursor= mydb.cursor()"
   ]
  },
  {
   "cell_type": "code",
   "execution_count": null,
   "metadata": {},
   "outputs": [],
   "source": [
    "mycursor.execute(\"CREATE DATABASE dbemp\")"
   ]
  },
  {
   "cell_type": "code",
   "execution_count": 45,
   "metadata": {},
   "outputs": [
    {
     "name": "stdout",
     "output_type": "stream",
     "text": [
      "('company',)\n",
      "('dbemp',)\n",
      "('information_schema',)\n",
      "('mysql',)\n",
      "('performance_schema',)\n",
      "('phpmyadmin',)\n",
      "('test',)\n"
     ]
    }
   ],
   "source": [
    "mycursor.execute(\"SHOW DATABASES\")\n",
    "for i in mycursor:\n",
    "    print(i)"
   ]
  },
  {
   "cell_type": "code",
   "execution_count": 33,
   "metadata": {},
   "outputs": [],
   "source": [
    "\n",
    "mycursor.execute(\"CREATE TABLE EMPLOYEE(EMPID INT,EMPNAME VARCHAR(50), EMP_SAL INT)\")"
   ]
  },
  {
   "cell_type": "code",
   "execution_count": 38,
   "metadata": {},
   "outputs": [],
   "source": [
    "sql= \"INSERT INTO EMPLOYEE(EMP_SAL)VALUES(%s)\"\n",
    "val=[(1110000)]\n",
    "mycursor.execute(sql,val)\n",
    "mydb.commit()"
   ]
  },
  {
   "cell_type": "code",
   "execution_count": 62,
   "metadata": {},
   "outputs": [
    {
     "name": "stdout",
     "output_type": "stream",
     "text": [
      "(111, None, None)\n",
      "(None, None, 1110000)\n"
     ]
    }
   ],
   "source": [
    "mycursor.execute(\"SELECT * FROM EMPLOYEE\")\n",
    "result = mycursor.fetchall()\n",
    "for i in result:\n",
    "    print (i)"
   ]
  },
  {
   "cell_type": "code",
   "execution_count": 69,
   "metadata": {},
   "outputs": [],
   "source": [
    "mycur.execute(\"UPDATE EMPLOYEE SET EMPNAME = 'SAAD ' WHERE EMPID=111\")\n"
   ]
  },
  {
   "cell_type": "code",
   "execution_count": 70,
   "metadata": {},
   "outputs": [],
   "source": [
    "con.commit()"
   ]
  }
 ],
 "metadata": {
  "interpreter": {
   "hash": "c73a7d09fa17042a32a4e6b46bf8a885da4b31a7b083add9215de24ced658ffb"
  },
  "kernelspec": {
   "display_name": "Python 3.10.4 64-bit",
   "language": "python",
   "name": "python3"
  },
  "language_info": {
   "codemirror_mode": {
    "name": "ipython",
    "version": 3
   },
   "file_extension": ".py",
   "mimetype": "text/x-python",
   "name": "python",
   "nbconvert_exporter": "python",
   "pygments_lexer": "ipython3",
   "version": "3.10.4"
  },
  "orig_nbformat": 4
 },
 "nbformat": 4,
 "nbformat_minor": 2
}
